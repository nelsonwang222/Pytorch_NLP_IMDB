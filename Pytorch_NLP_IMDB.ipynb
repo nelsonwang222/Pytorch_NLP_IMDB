{
 "cells": [
  {
   "cell_type": "markdown",
   "id": "8d0edfed",
   "metadata": {},
   "source": [
    "# NLP of IMDB Dataset"
   ]
  },
  {
   "cell_type": "markdown",
   "id": "e489421f",
   "metadata": {},
   "source": [
    "The project is to make sentiment analysis of IMDB comments by using Natural Language Processing."
   ]
  },
  {
   "cell_type": "markdown",
   "id": "52883d06",
   "metadata": {},
   "source": [
    "### Dataset\n",
    "The dataset used in this project is Stanford’s Large Movie Review Dataset as the dataset for sentiment analysis. This dataset is divided into two datasets for training and testing purposes, each containing 25,000 movie reviews downloaded from IMDb. In each dataset, the number of comments labeled as “positive” and “negative” is equal."
   ]
  },
  {
   "cell_type": "markdown",
   "id": "d5b65872",
   "metadata": {},
   "source": [
    "## **1. Setting Up the Enivronment**"
   ]
  },
  {
   "cell_type": "markdown",
   "id": "8b11cb13",
   "metadata": {},
   "source": [
    "### 1.1. Import libraries, modules, and functions"
   ]
  },
  {
   "cell_type": "code",
   "execution_count": 1,
   "id": "2d244895",
   "metadata": {},
   "outputs": [],
   "source": [
    "# Import libraries, modules, and functions\n",
    "import numpy as np\n",
    "import matplotlib.pyplot as plt\n",
    "import os,sys\n",
    "import imageio\n",
    "import random\n",
    "from tqdm import tqdm\n",
    "from sklearn.metrics import roc_auc_score\n",
    "from sklearn.manifold import TSNE\n",
    "\n",
    "# PyTorch imports\n",
    "import torch\n",
    "import torch.nn as nn\n",
    "import torch.nn.functional as F\n",
    "import torch.optim as optim\n",
    "import torchtext\n",
    "from torchtext.legacy import data\n",
    "\n",
    "\n",
    "SEED = 1\n",
    "torch.manual_seed(SEED)\n",
    "torch.backends.cudnn.deterministic = True"
   ]
  },
  {
   "cell_type": "markdown",
   "id": "c16f2753",
   "metadata": {},
   "source": [
    "## **2. Loading and Preparing the Data**"
   ]
  },
  {
   "cell_type": "code",
   "execution_count": 2,
   "id": "b1794ad2",
   "metadata": {},
   "outputs": [],
   "source": [
    "# download the dataset\n",
    "TEXT = torchtext.legacy.data.Field(tokenizer_language = 'basic_english')   \n",
    "LABEL = torchtext.legacy.data.Field(dtype = torch.float)\n",
    "train_data, test_data = torchtext.legacy.datasets.IMDB.splits(TEXT, LABEL) # load IMDB dataset from torchtext.datasets\n",
    "\n",
    "TEXT.build_vocab(train_data, vectors='glove.6B.50d')\n",
    "LABEL.build_vocab(train_data)"
   ]
  },
  {
   "cell_type": "code",
   "execution_count": 3,
   "id": "797c485b",
   "metadata": {},
   "outputs": [],
   "source": [
    "# print(len(TEXT.vocab))\n",
    "# print(TEXT.vocab.itos[:12])\n",
    "# print(TEXT.vocab.stoi['and'])\n",
    "# print(LABEL.vocab.stoi)"
   ]
  },
  {
   "cell_type": "markdown",
   "id": "290525c7",
   "metadata": {},
   "source": [
    "## **3. Computing Word Embeddings**"
   ]
  },
  {
   "cell_type": "code",
   "execution_count": 4,
   "id": "4393145c",
   "metadata": {},
   "outputs": [
    {
     "name": "stdout",
     "output_type": "stream",
     "text": [
      "[(['When', 'forty'], 'winters'), (['forty', 'winters'], 'shall'), (['winters', 'shall'], 'besiege')]\n",
      "[523.5823607444763, 521.1297750473022, 518.6946487426758, 516.2757856845856, 513.8724377155304, 511.4837317466736, 509.106360912323, 506.73851585388184, 504.3805685043335, 502.0331687927246, 499.69424629211426, 497.3644835948944, 495.041216135025, 492.7240858078003, 490.4115951061249, 488.102920293808, 485.7986271381378, 483.49681639671326, 481.1953113079071, 478.89517164230347, 476.5955972671509, 474.29796600341797, 472.00185346603394, 469.703405380249, 467.4039628505707, 465.10329151153564, 462.80123233795166, 460.49805092811584, 458.190958738327, 455.881632566452, 453.56950998306274, 451.25411105155945, 448.93508291244507, 446.6155903339386, 444.2917981147766, 441.9633297920227, 439.6311695575714, 437.29288148880005, 434.9480314254761, 432.5946320295334, 430.2343018054962, 427.86715602874756, 425.49316358566284, 423.1146651506424, 420.7300976514816, 418.34052646160126, 415.94377088546753, 413.53930270671844, 411.1288079023361, 408.71169543266296]\n",
      "tensor([ 0.6769,  1.2948,  0.2995,  1.1269,  0.0040, -0.2353, -0.7794,  0.0086,\n",
      "         1.1873, -0.6027], grad_fn=<SelectBackward>)\n"
     ]
    }
   ],
   "source": [
    "CONTEXT_SIZE = 2\n",
    "EMBEDDING_DIM = 10\n",
    "# We will use Shakespeare Sonnet 2\n",
    "test_sentence = \"\"\"When forty winters shall besiege thy brow,\n",
    "And dig deep trenches in thy beauty's field,\n",
    "Thy youth's proud livery so gazed on now,\n",
    "Will be a totter'd weed of small worth held:\n",
    "Then being asked, where all thy beauty lies,\n",
    "Where all the treasure of thy lusty days;\n",
    "To say, within thine own deep sunken eyes,\n",
    "Were an all-eating shame, and thriftless praise.\n",
    "How much more praise deserv'd thy beauty's use,\n",
    "If thou couldst answer 'This fair child of mine\n",
    "Shall sum my count, and make my old excuse,'\n",
    "Proving his beauty by succession thine!\n",
    "This were to be new made when thou art old,\n",
    "And see thy blood warm when thou feel'st it cold.\"\"\".split()\n",
    "# we should tokenize the input, but we will ignore that for now\n",
    "# build a list of tuples.  Each tuple is ([ word_i-2, word_i-1 ], target word)\n",
    "trigrams = [([test_sentence[i], test_sentence[i + 1]], test_sentence[i + 2])\n",
    "            for i in range(len(test_sentence) - 2)]\n",
    "# print the first 3, just so you can see what they look like\n",
    "print(trigrams[:3])\n",
    "\n",
    "vocab = set(test_sentence)\n",
    "word_to_ix = {word: i for i, word in enumerate(vocab)}\n",
    "\n",
    "\n",
    "class NGramLanguageModeler(nn.Module):\n",
    "\n",
    "    def __init__(self, vocab_size, embedding_dim, context_size):\n",
    "        super(NGramLanguageModeler, self).__init__()\n",
    "        self.embeddings = nn.Embedding(vocab_size, embedding_dim)\n",
    "        self.linear1 = nn.Linear(context_size * embedding_dim, 128)\n",
    "        self.linear2 = nn.Linear(128, vocab_size)\n",
    "\n",
    "    def forward(self, inputs):\n",
    "        embeds = self.embeddings(inputs).view((1, -1))\n",
    "        out = F.relu(self.linear1(embeds))\n",
    "        out = self.linear2(out)\n",
    "        log_probs = F.log_softmax(out, dim=1)\n",
    "        return log_probs\n",
    "\n",
    "\n",
    "losses = []\n",
    "loss_function = nn.NLLLoss()\n",
    "model = NGramLanguageModeler(len(vocab), EMBEDDING_DIM, CONTEXT_SIZE)\n",
    "optimizer = optim.SGD(model.parameters(), lr=0.001)\n",
    "\n",
    "for epoch in range(50):\n",
    "    total_loss = 0\n",
    "    for context, target in trigrams:\n",
    "\n",
    "        # Step 1. Prepare the inputs to be passed to the model (i.e, turn the words\n",
    "        # into integer indices and wrap them in tensors)\n",
    "        context_idxs = torch.tensor([word_to_ix[w] for w in context], dtype=torch.long)\n",
    "\n",
    "        # Step 2. Recall that torch *accumulates* gradients. Before passing in a\n",
    "        # new instance, you need to zero out the gradients from the old\n",
    "        # instance\n",
    "        model.zero_grad()\n",
    "\n",
    "        # Step 3. Run the forward pass, getting log probabilities over next\n",
    "        # words\n",
    "        log_probs = model(context_idxs)\n",
    "\n",
    "        # Step 4. Compute your loss function. (Again, Torch wants the target\n",
    "        # word wrapped in a tensor)\n",
    "        loss = loss_function(log_probs, torch.tensor([word_to_ix[target]], dtype=torch.long))\n",
    "\n",
    "        # Step 5. Do the backward pass and update the gradient\n",
    "        loss.backward()\n",
    "        optimizer.step()\n",
    "\n",
    "        # Get the Python number from a 1-element Tensor by calling tensor.item()\n",
    "        total_loss += loss.item()\n",
    "    losses.append(total_loss)\n",
    "print(losses)  # The loss decreased every iteration over the training data!\n",
    "\n",
    "# To get the embedding of a particular word, e.g. \"beauty\"\n",
    "print(model.embeddings.weight[word_to_ix[\"beauty\"]])"
   ]
  },
  {
   "cell_type": "code",
   "execution_count": 5,
   "id": "494ca064",
   "metadata": {},
   "outputs": [],
   "source": [
    "# TSNE visualization of embeddings\n",
    "\n",
    "embs = torch.stack([model.embeddings.weight[word_to_ix[word]] for word in vocab]).detach().numpy()\n",
    "labels = [word for word in vocab]\n",
    "\n",
    "embs_2d = TSNE(n_components=2).fit_transform(embs)"
   ]
  },
  {
   "cell_type": "code",
   "execution_count": 6,
   "id": "a8d73e4d",
   "metadata": {},
   "outputs": [
    {
     "data": {
      "image/png": "[encoded data removed]",
      "text/plain": [
       "<Figure size 576x576 with 1 Axes>"
      ]
     },
     "metadata": {
      "needs_background": "light"
     },
     "output_type": "display_data"
    }
   ],
   "source": [
    "fig, ax = plt.subplots(figsize=(8,8))\n",
    "ax.scatter(embs_2d[:,0], embs_2d[:,1])\n",
    "\n",
    "for i, txt in enumerate(labels):\n",
    "    ax.annotate(txt, (embs_2d[i,0], embs_2d[i,1]))"
   ]
  },
  {
   "cell_type": "markdown",
   "id": "37c571b5",
   "metadata": {},
   "source": [
    "## **4. Sentiment Classification on the IMDB dataset**"
   ]
  },
  {
   "cell_type": "code",
   "execution_count": 8,
   "id": "07244759",
   "metadata": {},
   "outputs": [],
   "source": [
    "TEXT = torchtext.legacy.data.Field(tokenizer_language = 'basic_english')\n",
    "LABEL = torchtext.legacy.data.LabelField(dtype = torch.float)"
   ]
  },
  {
   "cell_type": "code",
   "execution_count": 9,
   "id": "d924cb4f",
   "metadata": {},
   "outputs": [],
   "source": [
    "train_data, test_data = torchtext.legacy.datasets.IMDB.splits(TEXT, LABEL)"
   ]
  },
  {
   "cell_type": "code",
   "execution_count": 10,
   "id": "724d422f",
   "metadata": {},
   "outputs": [
    {
     "name": "stdout",
     "output_type": "stream",
     "text": [
      "Number of training examples: 25000\n",
      "Number of testing examples: 25000\n"
     ]
    }
   ],
   "source": [
    "print(f'Number of training examples: {len(train_data)}')\n",
    "print(f'Number of testing examples: {len(test_data)}')"
   ]
  },
  {
   "cell_type": "code",
   "execution_count": 11,
   "id": "bea0c19e",
   "metadata": {},
   "outputs": [
    {
     "name": "stdout",
     "output_type": "stream",
     "text": [
      "{'text': ['For', 'a', 'movie', 'that', 'gets', 'no', 'respect', 'there', 'sure', 'are', 'a', 'lot', 'of', 'memorable', 'quotes', 'listed', 'for', 'this', 'gem.', 'Imagine', 'a', 'movie', 'where', 'Joe', 'Piscopo', 'is', 'actually', 'funny!', 'Maureen', 'Stapleton', 'is', 'a', 'scene', 'stealer.', 'The', 'Moroni', 'character', 'is', 'an', 'absolute', 'scream.', 'Watch', 'for', 'Alan', '\"The', 'Skipper\"', 'Hale', 'jr.', 'as', 'a', 'police', 'Sgt.'], 'label': 'pos'}\n"
     ]
    }
   ],
   "source": [
    "print(vars(train_data.examples[0]))"
   ]
  },
  {
   "cell_type": "code",
   "execution_count": 12,
   "id": "af8c5173",
   "metadata": {},
   "outputs": [
    {
     "name": "stdout",
     "output_type": "stream",
     "text": [
      "{'text': ['A', 'solid,', 'if', 'unremarkable', 'film.', 'Matthau,', 'as', 'Einstein,', 'was', 'wonderful.', 'My', 'favorite', 'part,', 'and', 'the', 'only', 'thing', 'that', 'would', 'make', 'me', 'go', 'out', 'of', 'my', 'way', 'to', 'see', 'this', 'again,', 'was', 'the', 'wonderful', 'scene', 'with', 'the', 'physicists', 'playing', 'badmitton,', 'I', 'loved', 'the', 'sweaters', 'and', 'the', 'conversation', 'while', 'they', 'waited', 'for', 'Robbins', 'to', 'retrieve', 'the', 'birdie.'], 'label': 'pos'}\n"
     ]
    }
   ],
   "source": [
    "print(vars(train_data.examples[2]))"
   ]
  },
  {
   "cell_type": "code",
   "execution_count": 13,
   "id": "2cf78334",
   "metadata": {},
   "outputs": [],
   "source": [
    "train_data, valid_data = train_data.split(random_state = random.seed(SEED))"
   ]
  },
  {
   "cell_type": "code",
   "execution_count": 14,
   "id": "4a3aa395",
   "metadata": {},
   "outputs": [
    {
     "name": "stdout",
     "output_type": "stream",
     "text": [
      "Number of training examples: 17500\n",
      "Number of validation examples: 7500\n",
      "Number of testing examples: 25000\n"
     ]
    }
   ],
   "source": [
    "print(f'Number of training examples: {len(train_data)}')\n",
    "print(f'Number of validation examples: {len(valid_data)}')\n",
    "print(f'Number of testing examples: {len(test_data)}')"
   ]
  },
  {
   "cell_type": "code",
   "execution_count": 15,
   "id": "4e7c9868",
   "metadata": {},
   "outputs": [],
   "source": [
    "TEXT.build_vocab(train_data, vectors='glove.6B.50d')\n",
    "LABEL.build_vocab(train_data)"
   ]
  },
  {
   "cell_type": "code",
   "execution_count": 16,
   "id": "00e475de",
   "metadata": {},
   "outputs": [
    {
     "name": "stdout",
     "output_type": "stream",
     "text": [
      "Unique tokens in TEXT vocabulary: 224428\n",
      "Unique tokens in LABEL vocabulary: 2\n"
     ]
    }
   ],
   "source": [
    "print(f\"Unique tokens in TEXT vocabulary: {len(TEXT.vocab)}\")\n",
    "print(f\"Unique tokens in LABEL vocabulary: {len(LABEL.vocab)}\")"
   ]
  },
  {
   "cell_type": "code",
   "execution_count": 17,
   "id": "0378de67",
   "metadata": {},
   "outputs": [
    {
     "name": "stdout",
     "output_type": "stream",
     "text": [
      "[('the', 200714), ('a', 108362), ('and', 106643), ('of', 100046), ('to', 93152), ('is', 72104), ('in', 59701), ('I', 46420), ('that', 45281), ('this', 40144), ('it', 38172), ('/><br', 35632), ('was', 32551), ('as', 29641), ('with', 29266), ('for', 28713), ('but', 23712), ('The', 23645), ('on', 21540), ('movie', 21405)]\n"
     ]
    }
   ],
   "source": [
    "print(TEXT.vocab.freqs.most_common(20))"
   ]
  },
  {
   "cell_type": "code",
   "execution_count": 18,
   "id": "28f48635",
   "metadata": {},
   "outputs": [],
   "source": [
    "def get_batch_sentence_embeddings(batch):\n",
    "    sentence_embeddings = []\n",
    "    for text in batch.text.transpose(1,0):\n",
    "        filtered_text = text[(text!=0)&(text!=1)] # removes <unk> and <pad> tokens\n",
    "        sentence_emb = torch.mean(TEXT.vocab.vectors[filtered_text],axis=0)\n",
    "        sentence_embeddings.append(sentence_emb)\n",
    "    \n",
    "    return torch.stack(sentence_embeddings)\n",
    "\n",
    "class LogisticRegression(torch.nn.Module):\n",
    "    def __init__(self, input_dim):\n",
    "        super(LogisticRegression, self).__init__()\n",
    "        self.linear = torch.nn.Linear(input_dim,1)\n",
    "\n",
    "    def forward(self, x):\n",
    "        outputs = self.linear(x)\n",
    "        return outputs"
   ]
  },
  {
   "cell_type": "code",
   "execution_count": 19,
   "id": "abc56c94",
   "metadata": {},
   "outputs": [],
   "source": [
    "# dataloader\n",
    "BATCH_SIZE = 100\n",
    "\n",
    "device = torch.device('cuda' if torch.cuda.is_available() else 'cpu')\n",
    "\n",
    "train_iterator, valid_iterator, test_iterator = torchtext.legacy.data.BucketIterator.splits(\n",
    "    (train_data, valid_data, test_data), \n",
    "    batch_size = BATCH_SIZE,\n",
    "    device = device)\n",
    "\n",
    "\n",
    "# model + loss + optimizer\n",
    "model = LogisticRegression(input_dim=50)\n",
    "criterion = torch.nn.BCEWithLogitsLoss()\n",
    "optimizer = torch.optim.SGD(model.parameters(), lr=1e-2)"
   ]
  },
  {
   "cell_type": "code",
   "execution_count": 20,
   "id": "ff3bd0c9",
   "metadata": {},
   "outputs": [
    {
     "name": "stderr",
     "output_type": "stream",
     "text": [
      "175it [00:03, 57.97it/s]\n",
      "175it [00:02, 59.31it/s]\n",
      "175it [00:02, 58.89it/s]\n",
      "175it [00:02, 60.54it/s]\n",
      "175it [00:02, 61.15it/s]\n",
      "175it [00:02, 60.99it/s]\n",
      "175it [00:02, 61.36it/s]\n",
      "175it [00:02, 61.30it/s]\n",
      "175it [00:02, 60.90it/s]\n",
      "175it [00:02, 61.71it/s]\n",
      "175it [00:02, 58.80it/s]\n",
      "175it [00:03, 58.32it/s]\n",
      "175it [00:02, 59.81it/s]\n",
      "175it [00:02, 58.94it/s]\n",
      "175it [00:02, 58.92it/s]\n",
      "175it [00:02, 58.93it/s]\n",
      "175it [00:03, 57.07it/s]\n",
      "175it [00:02, 59.21it/s]\n",
      "175it [00:02, 59.12it/s]\n",
      "175it [00:03, 57.96it/s]\n",
      "175it [00:02, 59.93it/s]\n",
      "175it [00:03, 57.80it/s]\n",
      "175it [00:03, 57.35it/s]\n",
      "175it [00:02, 61.17it/s]\n",
      "175it [00:03, 56.94it/s]\n",
      "175it [00:02, 58.69it/s]\n",
      "175it [00:02, 58.39it/s]\n",
      "175it [00:02, 59.11it/s]\n",
      "175it [00:02, 59.99it/s]\n",
      "175it [00:03, 56.50it/s]"
     ]
    },
    {
     "name": "stdout",
     "output_type": "stream",
     "text": [
      "[0.6899785399436951, 0.688189685344696, 0.6892403364181519, 0.6863414645195007, 0.6894131302833557, 0.6847732663154602, 0.6876772046089172, 0.685048520565033, 0.6785286068916321, 0.678961992263794, 0.6807585954666138, 0.6814345717430115, 0.6826913356781006, 0.6858171820640564, 0.6822817921638489, 0.6743022799491882, 0.6687901020050049, 0.6722944378852844, 0.6751839518547058, 0.6774967908859253, 0.6761327981948853, 0.6781578063964844, 0.6767597198486328, 0.6788173913955688, 0.6681549549102783, 0.6700043678283691, 0.6728254556655884, 0.6669890880584717, 0.6662335395812988, 0.6742249131202698]\n"
     ]
    },
    {
     "name": "stderr",
     "output_type": "stream",
     "text": [
      "\n"
     ]
    }
   ],
   "source": [
    "# Number of training epochs \n",
    "epochs = 30\n",
    "\n",
    "# Train model/iterate over epochs\n",
    "losses = []\n",
    "for epoch in range(int(epochs)):\n",
    "    for i,batch in tqdm(enumerate(train_iterator)):\n",
    "        \n",
    "        sentence_embeddings = get_batch_sentence_embeddings(batch)\n",
    "        optimizer.zero_grad()\n",
    "        outputs = model(sentence_embeddings)\n",
    "        loss = criterion(outputs.reshape(-1), batch.label)\n",
    "        loss.backward()\n",
    "        optimizer.step()\n",
    "        \n",
    "    losses.append(loss.item())\n",
    "\n",
    "print(losses)"
   ]
  },
  {
   "cell_type": "code",
   "execution_count": 21,
   "id": "97873a02",
   "metadata": {},
   "outputs": [],
   "source": [
    "def compute_metrics(iterator,model):\n",
    "    model.eval()\n",
    "    all_preds = []\n",
    "    all_labels = []\n",
    "    for batch in iterator:\n",
    "        sentence_embeddings = get_batch_sentence_embeddings(batch)\n",
    "        with torch.no_grad():\n",
    "            all_preds.extend(list(model(sentence_embeddings).detach().numpy()))\n",
    "        all_labels.extend(list(batch.label.detach().numpy()))\n",
    "    \n",
    "    return {'auc': roc_auc_score(all_labels,all_preds)}"
   ]
  },
  {
   "cell_type": "code",
   "execution_count": 22,
   "id": "778252d3",
   "metadata": {},
   "outputs": [
    {
     "data": {
      "text/plain": [
       "{'auc': 0.7291410848000001}"
      ]
     },
     "execution_count": 22,
     "metadata": {},
     "output_type": "execute_result"
    }
   ],
   "source": [
    "compute_metrics(test_iterator,model)"
   ]
  },
  {
   "cell_type": "code",
   "execution_count": null,
   "id": "b2fb117c",
   "metadata": {},
   "outputs": [],
   "source": []
  },
  {
   "cell_type": "code",
   "execution_count": null,
   "id": "098aea12",
   "metadata": {},
   "outputs": [],
   "source": []
  }
 ],
 "metadata": {
  "kernelspec": {
   "display_name": "Python 3",
   "language": "python",
   "name": "python3"
  },
  "language_info": {
   "codemirror_mode": {
    "name": "ipython",
    "version": 3
   },
   "file_extension": ".py",
   "mimetype": "text/x-python",
   "name": "python",
   "nbconvert_exporter": "python",
   "pygments_lexer": "ipython3",
   "version": "3.8.8"
  }
 },
 "nbformat": 4,
 "nbformat_minor": 5
}
